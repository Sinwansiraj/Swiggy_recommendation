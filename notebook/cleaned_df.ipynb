{
 "cells": [
  {
   "cell_type": "markdown",
   "id": "e48aaa8b",
   "metadata": {},
   "source": [
    "# Generate Cleaned Data, Numerical Data, and Encoder Files\n",
    "\n",
    "This notebook:\n",
    "1. Cleans `swiggy.csv` and saves `cleaned_data.csv`.\n",
    "2. Extracts numeric columns (`rating`, `rating_count`, `cost`) to `numerical_data.csv`.\n",
    "3. Fits a OneHotEncoder on `name`, `city`, and `cuisine` and saves as `encoder.pkl`."
   ]
  },
  {
   "cell_type": "code",
   "execution_count": 1,
   "id": "a1613201",
   "metadata": {},
   "outputs": [],
   "source": [
    "import pandas as pd\n",
    "import numpy as np\n",
    "import pickle\n",
    "from sklearn.preprocessing import OneHotEncoder"
   ]
  },
  {
   "cell_type": "code",
   "execution_count": 2,
   "id": "6e6f291f",
   "metadata": {},
   "outputs": [],
   "source": [
    "df = pd.read_csv(\"C:/Users/sinwa/Desktop/swiggy_project/data/raw_data/swiggy.csv\")"
   ]
  },
  {
   "cell_type": "code",
   "execution_count": 3,
   "id": "6a63e879",
   "metadata": {},
   "outputs": [
    {
     "name": "stdout",
     "output_type": "stream",
     "text": [
      "<class 'pandas.core.frame.DataFrame'>\n",
      "RangeIndex: 148541 entries, 0 to 148540\n",
      "Data columns (total 11 columns):\n",
      " #   Column        Non-Null Count   Dtype \n",
      "---  ------        --------------   ----- \n",
      " 0   id            148541 non-null  int64 \n",
      " 1   name          148455 non-null  object\n",
      " 2   city          148541 non-null  object\n",
      " 3   rating        148455 non-null  object\n",
      " 4   rating_count  148455 non-null  object\n",
      " 5   cost          148410 non-null  object\n",
      " 6   cuisine       148442 non-null  object\n",
      " 7   lic_no        148312 non-null  object\n",
      " 8   link          148541 non-null  object\n",
      " 9   address       148455 non-null  object\n",
      " 10  menu          148541 non-null  object\n",
      "dtypes: int64(1), object(10)\n",
      "memory usage: 12.5+ MB\n"
     ]
    }
   ],
   "source": [
    "df.info()"
   ]
  },
  {
   "cell_type": "code",
   "execution_count": 4,
   "id": "48d6b5db",
   "metadata": {},
   "outputs": [],
   "source": [
    "df.replace([\"--\", \"Too Few Ratings\"], np.nan, inplace=True)\n",
    "df[\"rating_count\"] = df[\"rating_count\"].astype(str).str.replace(r\"[^0-9]\", \"\", regex=True)\n",
    "df[\"cost\"] = df[\"cost\"].astype(str).str.replace(r\"[^0-9]\", \"\", regex=True)"
   ]
  },
  {
   "cell_type": "code",
   "execution_count": 5,
   "id": "6a97de44",
   "metadata": {},
   "outputs": [
    {
     "name": "stderr",
     "output_type": "stream",
     "text": [
      "C:\\Users\\sinwa\\AppData\\Local\\Temp\\ipykernel_13316\\2334233874.py:5: FutureWarning: A value is trying to be set on a copy of a DataFrame or Series through chained assignment using an inplace method.\n",
      "The behavior will change in pandas 3.0. This inplace method will never work because the intermediate object on which we are setting values always behaves as a copy.\n",
      "\n",
      "For example, when doing 'df[col].method(value, inplace=True)', try using 'df.method({col: value}, inplace=True)' or df[col] = df[col].method(value) instead, to perform the operation inplace on the original object.\n",
      "\n",
      "\n",
      "  df[col].fillna(median_val, inplace=True)\n",
      "C:\\Users\\sinwa\\AppData\\Local\\Temp\\ipykernel_13316\\2334233874.py:5: FutureWarning: A value is trying to be set on a copy of a DataFrame or Series through chained assignment using an inplace method.\n",
      "The behavior will change in pandas 3.0. This inplace method will never work because the intermediate object on which we are setting values always behaves as a copy.\n",
      "\n",
      "For example, when doing 'df[col].method(value, inplace=True)', try using 'df.method({col: value}, inplace=True)' or df[col] = df[col].method(value) instead, to perform the operation inplace on the original object.\n",
      "\n",
      "\n",
      "  df[col].fillna(median_val, inplace=True)\n",
      "C:\\Users\\sinwa\\AppData\\Local\\Temp\\ipykernel_13316\\2334233874.py:5: FutureWarning: A value is trying to be set on a copy of a DataFrame or Series through chained assignment using an inplace method.\n",
      "The behavior will change in pandas 3.0. This inplace method will never work because the intermediate object on which we are setting values always behaves as a copy.\n",
      "\n",
      "For example, when doing 'df[col].method(value, inplace=True)', try using 'df.method({col: value}, inplace=True)' or df[col] = df[col].method(value) instead, to perform the operation inplace on the original object.\n",
      "\n",
      "\n",
      "  df[col].fillna(median_val, inplace=True)\n"
     ]
    },
    {
     "data": {
      "application/vnd.microsoft.datawrangler.viewer.v0+json": {
       "columns": [
        {
         "name": "index",
         "rawType": "int64",
         "type": "integer"
        },
        {
         "name": "id",
         "rawType": "int64",
         "type": "integer"
        },
        {
         "name": "name",
         "rawType": "object",
         "type": "string"
        },
        {
         "name": "city",
         "rawType": "object",
         "type": "string"
        },
        {
         "name": "rating",
         "rawType": "float64",
         "type": "float"
        },
        {
         "name": "rating_count",
         "rawType": "float64",
         "type": "float"
        },
        {
         "name": "cost",
         "rawType": "float64",
         "type": "float"
        },
        {
         "name": "cuisine",
         "rawType": "object",
         "type": "string"
        },
        {
         "name": "lic_no",
         "rawType": "object",
         "type": "string"
        },
        {
         "name": "link",
         "rawType": "object",
         "type": "string"
        },
        {
         "name": "address",
         "rawType": "object",
         "type": "string"
        },
        {
         "name": "menu",
         "rawType": "object",
         "type": "string"
        }
       ],
       "ref": "7300159d-a9c0-43da-99cc-9e3e7d903a9d",
       "rows": [
        [
         "0",
         "567335",
         "AB FOODS POINT",
         "Abohar",
         "4.0",
         "50.0",
         "200.0",
         "Beverages,Pizzas",
         "22122652000138",
         "https://www.swiggy.com/restaurants/ab-foods-point-central-abohar-abohar-567335",
         "AB FOODS POINT, NEAR RISHI NARANG DENTAL CLINIC , NEAR IDBI BANK, ABOHAR",
         "Menu/567335.json"
        ],
        [
         "1",
         "531342",
         "Janta Sweet House",
         "Abohar",
         "4.4",
         "50.0",
         "200.0",
         "Sweets,Bakery",
         "12117201000112",
         "https://www.swiggy.com/restaurants/janta-sweet-house-central-abohar-abohar-531342",
         "Janta Sweet House, Bazar No.9, Circullar Road, Abohar",
         "Menu/531342.json"
        ],
        [
         "2",
         "158203",
         "theka coffee desi",
         "Abohar",
         "3.8",
         "100.0",
         "100.0",
         "Beverages",
         "22121652000190",
         "https://www.swiggy.com/restaurants/theka-coffee-desi-central-raipura-abohar-158203",
         "theka coffee desi, sahtiya sadan road city",
         "Menu/158203.json"
        ],
        [
         "3",
         "187912",
         "Singh Hut",
         "Abohar",
         "3.7",
         "20.0",
         "250.0",
         "Fast Food,Indian",
         "22119652000167",
         "https://www.swiggy.com/restaurants/singh-hut-nehru-park-main-bazar-abohar-187912",
         "Singh Hut, CIRCULAR ROAD NEAR NEHRU PARK ABOHAR",
         "Menu/187912.json"
        ],
        [
         "4",
         "543530",
         "GRILL MASTERS",
         "Abohar",
         "4.0",
         "50.0",
         "250.0",
         "Italian-American,Fast Food",
         "12122201000053",
         "https://www.swiggy.com/restaurants/grill-masters-central-abohar-abohar-543530",
         "GRILL MASTERS, ADA Heights, Abohar - Hanumangarh Rd, Raipura, Abohar, Punjab 152116, India",
         "Menu/543530.json"
        ]
       ],
       "shape": {
        "columns": 11,
        "rows": 5
       }
      },
      "text/html": [
       "<div>\n",
       "<style scoped>\n",
       "    .dataframe tbody tr th:only-of-type {\n",
       "        vertical-align: middle;\n",
       "    }\n",
       "\n",
       "    .dataframe tbody tr th {\n",
       "        vertical-align: top;\n",
       "    }\n",
       "\n",
       "    .dataframe thead th {\n",
       "        text-align: right;\n",
       "    }\n",
       "</style>\n",
       "<table border=\"1\" class=\"dataframe\">\n",
       "  <thead>\n",
       "    <tr style=\"text-align: right;\">\n",
       "      <th></th>\n",
       "      <th>id</th>\n",
       "      <th>name</th>\n",
       "      <th>city</th>\n",
       "      <th>rating</th>\n",
       "      <th>rating_count</th>\n",
       "      <th>cost</th>\n",
       "      <th>cuisine</th>\n",
       "      <th>lic_no</th>\n",
       "      <th>link</th>\n",
       "      <th>address</th>\n",
       "      <th>menu</th>\n",
       "    </tr>\n",
       "  </thead>\n",
       "  <tbody>\n",
       "    <tr>\n",
       "      <th>0</th>\n",
       "      <td>567335</td>\n",
       "      <td>AB FOODS POINT</td>\n",
       "      <td>Abohar</td>\n",
       "      <td>4.0</td>\n",
       "      <td>50.0</td>\n",
       "      <td>200.0</td>\n",
       "      <td>Beverages,Pizzas</td>\n",
       "      <td>22122652000138</td>\n",
       "      <td>https://www.swiggy.com/restaurants/ab-foods-po...</td>\n",
       "      <td>AB FOODS POINT, NEAR RISHI NARANG DENTAL CLINI...</td>\n",
       "      <td>Menu/567335.json</td>\n",
       "    </tr>\n",
       "    <tr>\n",
       "      <th>1</th>\n",
       "      <td>531342</td>\n",
       "      <td>Janta Sweet House</td>\n",
       "      <td>Abohar</td>\n",
       "      <td>4.4</td>\n",
       "      <td>50.0</td>\n",
       "      <td>200.0</td>\n",
       "      <td>Sweets,Bakery</td>\n",
       "      <td>12117201000112</td>\n",
       "      <td>https://www.swiggy.com/restaurants/janta-sweet...</td>\n",
       "      <td>Janta Sweet House, Bazar No.9, Circullar Road,...</td>\n",
       "      <td>Menu/531342.json</td>\n",
       "    </tr>\n",
       "    <tr>\n",
       "      <th>2</th>\n",
       "      <td>158203</td>\n",
       "      <td>theka coffee desi</td>\n",
       "      <td>Abohar</td>\n",
       "      <td>3.8</td>\n",
       "      <td>100.0</td>\n",
       "      <td>100.0</td>\n",
       "      <td>Beverages</td>\n",
       "      <td>22121652000190</td>\n",
       "      <td>https://www.swiggy.com/restaurants/theka-coffe...</td>\n",
       "      <td>theka coffee desi, sahtiya sadan road city</td>\n",
       "      <td>Menu/158203.json</td>\n",
       "    </tr>\n",
       "    <tr>\n",
       "      <th>3</th>\n",
       "      <td>187912</td>\n",
       "      <td>Singh Hut</td>\n",
       "      <td>Abohar</td>\n",
       "      <td>3.7</td>\n",
       "      <td>20.0</td>\n",
       "      <td>250.0</td>\n",
       "      <td>Fast Food,Indian</td>\n",
       "      <td>22119652000167</td>\n",
       "      <td>https://www.swiggy.com/restaurants/singh-hut-n...</td>\n",
       "      <td>Singh Hut, CIRCULAR ROAD NEAR NEHRU PARK ABOHAR</td>\n",
       "      <td>Menu/187912.json</td>\n",
       "    </tr>\n",
       "    <tr>\n",
       "      <th>4</th>\n",
       "      <td>543530</td>\n",
       "      <td>GRILL MASTERS</td>\n",
       "      <td>Abohar</td>\n",
       "      <td>4.0</td>\n",
       "      <td>50.0</td>\n",
       "      <td>250.0</td>\n",
       "      <td>Italian-American,Fast Food</td>\n",
       "      <td>12122201000053</td>\n",
       "      <td>https://www.swiggy.com/restaurants/grill-maste...</td>\n",
       "      <td>GRILL MASTERS, ADA Heights, Abohar - Hanumanga...</td>\n",
       "      <td>Menu/543530.json</td>\n",
       "    </tr>\n",
       "  </tbody>\n",
       "</table>\n",
       "</div>"
      ],
      "text/plain": [
       "       id               name    city  rating  rating_count   cost  \\\n",
       "0  567335     AB FOODS POINT  Abohar     4.0          50.0  200.0   \n",
       "1  531342  Janta Sweet House  Abohar     4.4          50.0  200.0   \n",
       "2  158203  theka coffee desi  Abohar     3.8         100.0  100.0   \n",
       "3  187912          Singh Hut  Abohar     3.7          20.0  250.0   \n",
       "4  543530      GRILL MASTERS  Abohar     4.0          50.0  250.0   \n",
       "\n",
       "                      cuisine          lic_no  \\\n",
       "0            Beverages,Pizzas  22122652000138   \n",
       "1               Sweets,Bakery  12117201000112   \n",
       "2                   Beverages  22121652000190   \n",
       "3            Fast Food,Indian  22119652000167   \n",
       "4  Italian-American,Fast Food  12122201000053   \n",
       "\n",
       "                                                link  \\\n",
       "0  https://www.swiggy.com/restaurants/ab-foods-po...   \n",
       "1  https://www.swiggy.com/restaurants/janta-sweet...   \n",
       "2  https://www.swiggy.com/restaurants/theka-coffe...   \n",
       "3  https://www.swiggy.com/restaurants/singh-hut-n...   \n",
       "4  https://www.swiggy.com/restaurants/grill-maste...   \n",
       "\n",
       "                                             address              menu  \n",
       "0  AB FOODS POINT, NEAR RISHI NARANG DENTAL CLINI...  Menu/567335.json  \n",
       "1  Janta Sweet House, Bazar No.9, Circullar Road,...  Menu/531342.json  \n",
       "2         theka coffee desi, sahtiya sadan road city  Menu/158203.json  \n",
       "3    Singh Hut, CIRCULAR ROAD NEAR NEHRU PARK ABOHAR  Menu/187912.json  \n",
       "4  GRILL MASTERS, ADA Heights, Abohar - Hanumanga...  Menu/543530.json  "
      ]
     },
     "execution_count": 5,
     "metadata": {},
     "output_type": "execute_result"
    }
   ],
   "source": [
    "\n",
    "\n",
    "\n",
    "for col in [\"rating\", \"rating_count\", \"cost\"]:\n",
    "    df[col] = pd.to_numeric(df[col], errors=\"coerce\")\n",
    "for col in [\"rating\", \"rating_count\", \"cost\"]:\n",
    "    median_val = df[col].median()\n",
    "    df[col].fillna(median_val, inplace=True)\n",
    "df_cleaned = df.drop_duplicates().dropna(subset=[\"name\", \"city\", \"cuisine\"]).reset_index(drop=True)\n",
    "df_cleaned.to_csv(\"cleaned_data.csv\", index=False)\n",
    "df_cleaned.head()"
   ]
  },
  {
   "cell_type": "code",
   "execution_count": 6,
   "id": "1a8d5d74",
   "metadata": {},
   "outputs": [
    {
     "data": {
      "application/vnd.microsoft.datawrangler.viewer.v0+json": {
       "columns": [
        {
         "name": "index",
         "rawType": "int64",
         "type": "integer"
        },
        {
         "name": "rating",
         "rawType": "float64",
         "type": "float"
        },
        {
         "name": "rating_count",
         "rawType": "float64",
         "type": "float"
        },
        {
         "name": "cost",
         "rawType": "float64",
         "type": "float"
        }
       ],
       "ref": "8c9e74fe-21ab-4f3c-9c9d-7e825087c37f",
       "rows": [
        [
         "0",
         "4.0",
         "50.0",
         "200.0"
        ],
        [
         "1",
         "4.4",
         "50.0",
         "200.0"
        ],
        [
         "2",
         "3.8",
         "100.0",
         "100.0"
        ],
        [
         "3",
         "3.7",
         "20.0",
         "250.0"
        ],
        [
         "4",
         "4.0",
         "50.0",
         "250.0"
        ]
       ],
       "shape": {
        "columns": 3,
        "rows": 5
       }
      },
      "text/html": [
       "<div>\n",
       "<style scoped>\n",
       "    .dataframe tbody tr th:only-of-type {\n",
       "        vertical-align: middle;\n",
       "    }\n",
       "\n",
       "    .dataframe tbody tr th {\n",
       "        vertical-align: top;\n",
       "    }\n",
       "\n",
       "    .dataframe thead th {\n",
       "        text-align: right;\n",
       "    }\n",
       "</style>\n",
       "<table border=\"1\" class=\"dataframe\">\n",
       "  <thead>\n",
       "    <tr style=\"text-align: right;\">\n",
       "      <th></th>\n",
       "      <th>rating</th>\n",
       "      <th>rating_count</th>\n",
       "      <th>cost</th>\n",
       "    </tr>\n",
       "  </thead>\n",
       "  <tbody>\n",
       "    <tr>\n",
       "      <th>0</th>\n",
       "      <td>4.0</td>\n",
       "      <td>50.0</td>\n",
       "      <td>200.0</td>\n",
       "    </tr>\n",
       "    <tr>\n",
       "      <th>1</th>\n",
       "      <td>4.4</td>\n",
       "      <td>50.0</td>\n",
       "      <td>200.0</td>\n",
       "    </tr>\n",
       "    <tr>\n",
       "      <th>2</th>\n",
       "      <td>3.8</td>\n",
       "      <td>100.0</td>\n",
       "      <td>100.0</td>\n",
       "    </tr>\n",
       "    <tr>\n",
       "      <th>3</th>\n",
       "      <td>3.7</td>\n",
       "      <td>20.0</td>\n",
       "      <td>250.0</td>\n",
       "    </tr>\n",
       "    <tr>\n",
       "      <th>4</th>\n",
       "      <td>4.0</td>\n",
       "      <td>50.0</td>\n",
       "      <td>250.0</td>\n",
       "    </tr>\n",
       "  </tbody>\n",
       "</table>\n",
       "</div>"
      ],
      "text/plain": [
       "   rating  rating_count   cost\n",
       "0     4.0          50.0  200.0\n",
       "1     4.4          50.0  200.0\n",
       "2     3.8         100.0  100.0\n",
       "3     3.7          20.0  250.0\n",
       "4     4.0          50.0  250.0"
      ]
     },
     "execution_count": 6,
     "metadata": {},
     "output_type": "execute_result"
    }
   ],
   "source": [
    "# Save numerical data\n",
    "numerical_cols = [\"rating\", \"rating_count\", \"cost\"]\n",
    "df_numerical_data = df_cleaned[numerical_cols]\n",
    "df_numerical_data.to_csv(\"numerical_data.csv\", index=False)\n",
    "df_numerical_data.head()"
   ]
  },
  {
   "cell_type": "code",
   "execution_count": 8,
   "id": "4ca5d014",
   "metadata": {},
   "outputs": [
    {
     "name": "stdout",
     "output_type": "stream",
     "text": [
      "encoder.pkl saved\n"
     ]
    }
   ],
   "source": [
    "# Fit and save OneHotEncoder\n",
    "categorical_cols = [\"name\", \"city\", \"cuisine\"]\n",
    "encoder = OneHotEncoder(sparse_output=True, handle_unknown=\"ignore\")\n",
    "encoder.fit(df_cleaned[categorical_cols])\n",
    "with open(\"encoder.pkl\", \"wb\") as f:\n",
    "    pickle.dump(encoder, f)\n",
    "print(\"encoder.pkl saved\")"
   ]
  },
  {
   "cell_type": "code",
   "execution_count": 9,
   "id": "0e487092",
   "metadata": {},
   "outputs": [
    {
     "name": "stdout",
     "output_type": "stream",
     "text": [
      "<class 'pandas.core.frame.DataFrame'>\n",
      "RangeIndex: 148442 entries, 0 to 148441\n",
      "Data columns (total 11 columns):\n",
      " #   Column        Non-Null Count   Dtype  \n",
      "---  ------        --------------   -----  \n",
      " 0   id            148442 non-null  int64  \n",
      " 1   name          148442 non-null  object \n",
      " 2   city          148442 non-null  object \n",
      " 3   rating        148442 non-null  float64\n",
      " 4   rating_count  148442 non-null  float64\n",
      " 5   cost          148442 non-null  float64\n",
      " 6   cuisine       148442 non-null  object \n",
      " 7   lic_no        148299 non-null  object \n",
      " 8   link          148442 non-null  object \n",
      " 9   address       148442 non-null  object \n",
      " 10  menu          148442 non-null  object \n",
      "dtypes: float64(3), int64(1), object(7)\n",
      "memory usage: 12.5+ MB\n"
     ]
    }
   ],
   "source": [
    "df_cleaned.info()"
   ]
  },
  {
   "cell_type": "code",
   "execution_count": 10,
   "id": "cbea75f6",
   "metadata": {},
   "outputs": [
    {
     "name": "stdout",
     "output_type": "stream",
     "text": [
      "Initial Shape: (148442, 11)\n",
      "\n",
      "Missing Values:\n",
      " id                0\n",
      "name              0\n",
      "city              0\n",
      "rating            0\n",
      "rating_count      0\n",
      "cost              0\n",
      "cuisine           0\n",
      "lic_no          143\n",
      "link              0\n",
      "address           0\n",
      "menu              0\n",
      "dtype: int64\n"
     ]
    }
   ],
   "source": [
    "print(\"Initial Shape:\", df_cleaned.shape)\n",
    "print(\"\\nMissing Values:\\n\", df_cleaned.isnull().sum())"
   ]
  },
  {
   "cell_type": "code",
   "execution_count": 11,
   "id": "bbcb4c73",
   "metadata": {},
   "outputs": [
    {
     "name": "stdout",
     "output_type": "stream",
     "text": [
      "After removing duplicates: (148442, 11)\n"
     ]
    }
   ],
   "source": [
    "df_cleaned.drop_duplicates()\n",
    "print(\"After removing duplicates:\", df_cleaned.shape)"
   ]
  },
  {
   "cell_type": "code",
   "execution_count": 13,
   "id": "c4ec6794",
   "metadata": {},
   "outputs": [
    {
     "data": {
      "application/vnd.microsoft.datawrangler.viewer.v0+json": {
       "columns": [
        {
         "name": "index",
         "rawType": "object",
         "type": "string"
        },
        {
         "name": "0",
         "rawType": "int64",
         "type": "integer"
        }
       ],
       "ref": "2381cf94-4ffb-4509-a969-00b9987c1851",
       "rows": [
        [
         "id",
         "0"
        ],
        [
         "name",
         "0"
        ],
        [
         "city",
         "0"
        ],
        [
         "rating",
         "0"
        ],
        [
         "rating_count",
         "0"
        ],
        [
         "cost",
         "0"
        ],
        [
         "cuisine",
         "0"
        ],
        [
         "lic_no",
         "143"
        ],
        [
         "link",
         "0"
        ],
        [
         "address",
         "0"
        ],
        [
         "menu",
         "0"
        ]
       ],
       "shape": {
        "columns": 1,
        "rows": 11
       }
      },
      "text/plain": [
       "id                0\n",
       "name              0\n",
       "city              0\n",
       "rating            0\n",
       "rating_count      0\n",
       "cost              0\n",
       "cuisine           0\n",
       "lic_no          143\n",
       "link              0\n",
       "address           0\n",
       "menu              0\n",
       "dtype: int64"
      ]
     },
     "execution_count": 13,
     "metadata": {},
     "output_type": "execute_result"
    }
   ],
   "source": [
    "df_cleaned.isnull().sum()"
   ]
  },
  {
   "cell_type": "code",
   "execution_count": 14,
   "id": "e88508ba",
   "metadata": {},
   "outputs": [],
   "source": [
    "df_cleaned = pd.read_csv(\"cleaned_data.csv\")\n",
    "df_cleaned = df_cleaned.drop(columns=[\"lic_no\"])\n",
    "df_cleaned.to_csv(\"cleaned_data.csv\", index=False)\n"
   ]
  },
  {
   "cell_type": "code",
   "execution_count": null,
   "id": "d16807a2",
   "metadata": {},
   "outputs": [],
   "source": []
  }
 ],
 "metadata": {
  "kernelspec": {
   "display_name": ".venv",
   "language": "python",
   "name": "python3"
  },
  "language_info": {
   "codemirror_mode": {
    "name": "ipython",
    "version": 3
   },
   "file_extension": ".py",
   "mimetype": "text/x-python",
   "name": "python",
   "nbconvert_exporter": "python",
   "pygments_lexer": "ipython3",
   "version": "3.12.10"
  }
 },
 "nbformat": 4,
 "nbformat_minor": 5
}
