{
 "cells": [
  {
   "cell_type": "markdown",
   "id": "9c6f3313",
   "metadata": {},
   "source": [
    "# Swiggy Recommendation Methodology\n",
    "This notebook shows how to build a recommendation system using:\n",
    "1. K-Means Clustering\n",
    "2. Cosine Similarity (Nearest Neighbors)\n",
    "\n",
    "It uses `cleaned_data.csv` for mapping and `numerical_data.csv` as feature matrix."
   ]
  },
  {
   "cell_type": "code",
   "execution_count": 1,
   "id": "8745b7a5",
   "metadata": {},
   "outputs": [],
   "source": [
    "import pandas as pd\n",
    "import numpy as np\n",
    "import pickle\n",
    "from sklearn.cluster import KMeans\n",
    "from sklearn.neighbors import NearestNeighbors\n"
   ]
  },
  {
   "cell_type": "code",
   "execution_count": 2,
   "id": "a775e8c4",
   "metadata": {},
   "outputs": [
    {
     "name": "stdout",
     "output_type": "stream",
     "text": [
      "Cleaned data shape: (148442, 10)\n",
      "Numerical feature matrix shape: (148442, 3)\n"
     ]
    },
    {
     "data": {
      "application/vnd.microsoft.datawrangler.viewer.v0+json": {
       "columns": [
        {
         "name": "index",
         "rawType": "int64",
         "type": "integer"
        },
        {
         "name": "id",
         "rawType": "int64",
         "type": "integer"
        },
        {
         "name": "name",
         "rawType": "object",
         "type": "string"
        },
        {
         "name": "city",
         "rawType": "object",
         "type": "string"
        },
        {
         "name": "rating",
         "rawType": "float64",
         "type": "float"
        },
        {
         "name": "rating_count",
         "rawType": "float64",
         "type": "float"
        },
        {
         "name": "cost",
         "rawType": "float64",
         "type": "float"
        },
        {
         "name": "cuisine",
         "rawType": "object",
         "type": "string"
        },
        {
         "name": "link",
         "rawType": "object",
         "type": "string"
        },
        {
         "name": "address",
         "rawType": "object",
         "type": "string"
        },
        {
         "name": "menu",
         "rawType": "object",
         "type": "string"
        }
       ],
       "ref": "050453d3-1a33-4ae3-ad1b-e6eff5de3479",
       "rows": [
        [
         "0",
         "567335",
         "AB FOODS POINT",
         "Abohar",
         "4.0",
         "50.0",
         "200.0",
         "Beverages,Pizzas",
         "https://www.swiggy.com/restaurants/ab-foods-point-central-abohar-abohar-567335",
         "AB FOODS POINT, NEAR RISHI NARANG DENTAL CLINIC , NEAR IDBI BANK, ABOHAR",
         "Menu/567335.json"
        ],
        [
         "1",
         "531342",
         "Janta Sweet House",
         "Abohar",
         "4.4",
         "50.0",
         "200.0",
         "Sweets,Bakery",
         "https://www.swiggy.com/restaurants/janta-sweet-house-central-abohar-abohar-531342",
         "Janta Sweet House, Bazar No.9, Circullar Road, Abohar",
         "Menu/531342.json"
        ],
        [
         "2",
         "158203",
         "theka coffee desi",
         "Abohar",
         "3.8",
         "100.0",
         "100.0",
         "Beverages",
         "https://www.swiggy.com/restaurants/theka-coffee-desi-central-raipura-abohar-158203",
         "theka coffee desi, sahtiya sadan road city",
         "Menu/158203.json"
        ],
        [
         "3",
         "187912",
         "Singh Hut",
         "Abohar",
         "3.7",
         "20.0",
         "250.0",
         "Fast Food,Indian",
         "https://www.swiggy.com/restaurants/singh-hut-nehru-park-main-bazar-abohar-187912",
         "Singh Hut, CIRCULAR ROAD NEAR NEHRU PARK ABOHAR",
         "Menu/187912.json"
        ],
        [
         "4",
         "543530",
         "GRILL MASTERS",
         "Abohar",
         "4.0",
         "50.0",
         "250.0",
         "Italian-American,Fast Food",
         "https://www.swiggy.com/restaurants/grill-masters-central-abohar-abohar-543530",
         "GRILL MASTERS, ADA Heights, Abohar - Hanumangarh Rd, Raipura, Abohar, Punjab 152116, India",
         "Menu/543530.json"
        ]
       ],
       "shape": {
        "columns": 10,
        "rows": 5
       }
      },
      "text/html": [
       "<div>\n",
       "<style scoped>\n",
       "    .dataframe tbody tr th:only-of-type {\n",
       "        vertical-align: middle;\n",
       "    }\n",
       "\n",
       "    .dataframe tbody tr th {\n",
       "        vertical-align: top;\n",
       "    }\n",
       "\n",
       "    .dataframe thead th {\n",
       "        text-align: right;\n",
       "    }\n",
       "</style>\n",
       "<table border=\"1\" class=\"dataframe\">\n",
       "  <thead>\n",
       "    <tr style=\"text-align: right;\">\n",
       "      <th></th>\n",
       "      <th>id</th>\n",
       "      <th>name</th>\n",
       "      <th>city</th>\n",
       "      <th>rating</th>\n",
       "      <th>rating_count</th>\n",
       "      <th>cost</th>\n",
       "      <th>cuisine</th>\n",
       "      <th>link</th>\n",
       "      <th>address</th>\n",
       "      <th>menu</th>\n",
       "    </tr>\n",
       "  </thead>\n",
       "  <tbody>\n",
       "    <tr>\n",
       "      <th>0</th>\n",
       "      <td>567335</td>\n",
       "      <td>AB FOODS POINT</td>\n",
       "      <td>Abohar</td>\n",
       "      <td>4.0</td>\n",
       "      <td>50.0</td>\n",
       "      <td>200.0</td>\n",
       "      <td>Beverages,Pizzas</td>\n",
       "      <td>https://www.swiggy.com/restaurants/ab-foods-po...</td>\n",
       "      <td>AB FOODS POINT, NEAR RISHI NARANG DENTAL CLINI...</td>\n",
       "      <td>Menu/567335.json</td>\n",
       "    </tr>\n",
       "    <tr>\n",
       "      <th>1</th>\n",
       "      <td>531342</td>\n",
       "      <td>Janta Sweet House</td>\n",
       "      <td>Abohar</td>\n",
       "      <td>4.4</td>\n",
       "      <td>50.0</td>\n",
       "      <td>200.0</td>\n",
       "      <td>Sweets,Bakery</td>\n",
       "      <td>https://www.swiggy.com/restaurants/janta-sweet...</td>\n",
       "      <td>Janta Sweet House, Bazar No.9, Circullar Road,...</td>\n",
       "      <td>Menu/531342.json</td>\n",
       "    </tr>\n",
       "    <tr>\n",
       "      <th>2</th>\n",
       "      <td>158203</td>\n",
       "      <td>theka coffee desi</td>\n",
       "      <td>Abohar</td>\n",
       "      <td>3.8</td>\n",
       "      <td>100.0</td>\n",
       "      <td>100.0</td>\n",
       "      <td>Beverages</td>\n",
       "      <td>https://www.swiggy.com/restaurants/theka-coffe...</td>\n",
       "      <td>theka coffee desi, sahtiya sadan road city</td>\n",
       "      <td>Menu/158203.json</td>\n",
       "    </tr>\n",
       "    <tr>\n",
       "      <th>3</th>\n",
       "      <td>187912</td>\n",
       "      <td>Singh Hut</td>\n",
       "      <td>Abohar</td>\n",
       "      <td>3.7</td>\n",
       "      <td>20.0</td>\n",
       "      <td>250.0</td>\n",
       "      <td>Fast Food,Indian</td>\n",
       "      <td>https://www.swiggy.com/restaurants/singh-hut-n...</td>\n",
       "      <td>Singh Hut, CIRCULAR ROAD NEAR NEHRU PARK ABOHAR</td>\n",
       "      <td>Menu/187912.json</td>\n",
       "    </tr>\n",
       "    <tr>\n",
       "      <th>4</th>\n",
       "      <td>543530</td>\n",
       "      <td>GRILL MASTERS</td>\n",
       "      <td>Abohar</td>\n",
       "      <td>4.0</td>\n",
       "      <td>50.0</td>\n",
       "      <td>250.0</td>\n",
       "      <td>Italian-American,Fast Food</td>\n",
       "      <td>https://www.swiggy.com/restaurants/grill-maste...</td>\n",
       "      <td>GRILL MASTERS, ADA Heights, Abohar - Hanumanga...</td>\n",
       "      <td>Menu/543530.json</td>\n",
       "    </tr>\n",
       "  </tbody>\n",
       "</table>\n",
       "</div>"
      ],
      "text/plain": [
       "       id               name    city  rating  rating_count   cost  \\\n",
       "0  567335     AB FOODS POINT  Abohar     4.0          50.0  200.0   \n",
       "1  531342  Janta Sweet House  Abohar     4.4          50.0  200.0   \n",
       "2  158203  theka coffee desi  Abohar     3.8         100.0  100.0   \n",
       "3  187912          Singh Hut  Abohar     3.7          20.0  250.0   \n",
       "4  543530      GRILL MASTERS  Abohar     4.0          50.0  250.0   \n",
       "\n",
       "                      cuisine  \\\n",
       "0            Beverages,Pizzas   \n",
       "1               Sweets,Bakery   \n",
       "2                   Beverages   \n",
       "3            Fast Food,Indian   \n",
       "4  Italian-American,Fast Food   \n",
       "\n",
       "                                                link  \\\n",
       "0  https://www.swiggy.com/restaurants/ab-foods-po...   \n",
       "1  https://www.swiggy.com/restaurants/janta-sweet...   \n",
       "2  https://www.swiggy.com/restaurants/theka-coffe...   \n",
       "3  https://www.swiggy.com/restaurants/singh-hut-n...   \n",
       "4  https://www.swiggy.com/restaurants/grill-maste...   \n",
       "\n",
       "                                             address              menu  \n",
       "0  AB FOODS POINT, NEAR RISHI NARANG DENTAL CLINI...  Menu/567335.json  \n",
       "1  Janta Sweet House, Bazar No.9, Circullar Road,...  Menu/531342.json  \n",
       "2         theka coffee desi, sahtiya sadan road city  Menu/158203.json  \n",
       "3    Singh Hut, CIRCULAR ROAD NEAR NEHRU PARK ABOHAR  Menu/187912.json  \n",
       "4  GRILL MASTERS, ADA Heights, Abohar - Hanumanga...  Menu/543530.json  "
      ]
     },
     "execution_count": 2,
     "metadata": {},
     "output_type": "execute_result"
    }
   ],
   "source": [
    "# Load cleaned dataset and numerical features\n",
    "df_cleaned = pd.read_csv(\"cleaned_data.csv\")\n",
    "df_num = pd.read_csv(\"numerical_data.csv\")\n",
    "\n",
    "print(\"Cleaned data shape:\", df_cleaned.shape)\n",
    "print(\"Numerical feature matrix shape:\", df_num.shape)\n",
    "\n",
    "df_cleaned.head()"
   ]
  },
  {
   "cell_type": "code",
   "execution_count": 3,
   "id": "18ebc2da",
   "metadata": {},
   "outputs": [
    {
     "name": "stdout",
     "output_type": "stream",
     "text": [
      "Cluster distribution:\n",
      "cluster\n",
      "8    51918\n",
      "0    36654\n",
      "4    22901\n",
      "6    19735\n",
      "3     9541\n",
      "2     2945\n",
      "9     2235\n",
      "5     2119\n",
      "7      393\n",
      "1        1\n",
      "Name: count, dtype: int64\n"
     ]
    }
   ],
   "source": [
    "# ===== K-Means Clustering =====\n",
    "k = 10  # number of clusters\n",
    "kmeans = KMeans(n_clusters=k, random_state=42)\n",
    "cluster_labels = kmeans.fit_predict(df_num)\n",
    "\n",
    "# Add cluster labels to cleaned dataframe\n",
    "df_cleaned['cluster'] = cluster_labels\n",
    "\n",
    "# Display cluster distribution\n",
    "print(\"Cluster distribution:\")\n",
    "print(df_cleaned['cluster'].value_counts())\n"
   ]
  },
  {
   "cell_type": "code",
   "execution_count": 4,
   "id": "4b5918a7",
   "metadata": {},
   "outputs": [
    {
     "name": "stdout",
     "output_type": "stream",
     "text": [
      "Selected Restaurant:\n",
      "name         AB FOODS POINT\n",
      "city                 Abohar\n",
      "cuisine    Beverages,Pizzas\n",
      "rating                  4.0\n",
      "cost                  200.0\n",
      "cluster                   8\n",
      "Name: 0, dtype: object\n",
      "Restaurants in same cluster (cluster 8):\n"
     ]
    },
    {
     "data": {
      "application/vnd.microsoft.datawrangler.viewer.v0+json": {
       "columns": [
        {
         "name": "index",
         "rawType": "int64",
         "type": "integer"
        },
        {
         "name": "name",
         "rawType": "object",
         "type": "string"
        },
        {
         "name": "city",
         "rawType": "object",
         "type": "string"
        },
        {
         "name": "cuisine",
         "rawType": "object",
         "type": "string"
        },
        {
         "name": "rating",
         "rawType": "float64",
         "type": "float"
        },
        {
         "name": "cost",
         "rawType": "float64",
         "type": "float"
        }
       ],
       "ref": "e51487cf-cdf6-494d-85cb-7bde506d019e",
       "rows": [
        [
         "0",
         "AB FOODS POINT",
         "Abohar",
         "Beverages,Pizzas",
         "4.0",
         "200.0"
        ],
        [
         "1",
         "Janta Sweet House",
         "Abohar",
         "Sweets,Bakery",
         "4.4",
         "200.0"
        ],
        [
         "3",
         "Singh Hut",
         "Abohar",
         "Fast Food,Indian",
         "3.7",
         "250.0"
        ],
        [
         "4",
         "GRILL MASTERS",
         "Abohar",
         "Italian-American,Fast Food",
         "4.0",
         "250.0"
        ],
        [
         "5",
         "Sam Uncle",
         "Abohar",
         "Continental",
         "3.6",
         "200.0"
        ],
        [
         "9",
         "yummy hub",
         "Abohar",
         "Indian",
         "4.0",
         "200.0"
        ],
        [
         "12",
         "Swastik Dhaba",
         "Abohar",
         "North Indian",
         "4.0",
         "200.0"
        ],
        [
         "16",
         "Roll Express",
         "Abohar",
         "Fast Food",
         "4.0",
         "200.0"
        ],
        [
         "17",
         "wah ji waah veg and non veg corner",
         "Abohar",
         "North Indian,Chinese",
         "4.0",
         "200.0"
        ],
        [
         "22",
         "Royal Chicken",
         "Abohar",
         "Mughlai,North Indian",
         "4.2",
         "200.0"
        ]
       ],
       "shape": {
        "columns": 5,
        "rows": 10
       }
      },
      "text/html": [
       "<div>\n",
       "<style scoped>\n",
       "    .dataframe tbody tr th:only-of-type {\n",
       "        vertical-align: middle;\n",
       "    }\n",
       "\n",
       "    .dataframe tbody tr th {\n",
       "        vertical-align: top;\n",
       "    }\n",
       "\n",
       "    .dataframe thead th {\n",
       "        text-align: right;\n",
       "    }\n",
       "</style>\n",
       "<table border=\"1\" class=\"dataframe\">\n",
       "  <thead>\n",
       "    <tr style=\"text-align: right;\">\n",
       "      <th></th>\n",
       "      <th>name</th>\n",
       "      <th>city</th>\n",
       "      <th>cuisine</th>\n",
       "      <th>rating</th>\n",
       "      <th>cost</th>\n",
       "    </tr>\n",
       "  </thead>\n",
       "  <tbody>\n",
       "    <tr>\n",
       "      <th>0</th>\n",
       "      <td>AB FOODS POINT</td>\n",
       "      <td>Abohar</td>\n",
       "      <td>Beverages,Pizzas</td>\n",
       "      <td>4.0</td>\n",
       "      <td>200.0</td>\n",
       "    </tr>\n",
       "    <tr>\n",
       "      <th>1</th>\n",
       "      <td>Janta Sweet House</td>\n",
       "      <td>Abohar</td>\n",
       "      <td>Sweets,Bakery</td>\n",
       "      <td>4.4</td>\n",
       "      <td>200.0</td>\n",
       "    </tr>\n",
       "    <tr>\n",
       "      <th>3</th>\n",
       "      <td>Singh Hut</td>\n",
       "      <td>Abohar</td>\n",
       "      <td>Fast Food,Indian</td>\n",
       "      <td>3.7</td>\n",
       "      <td>250.0</td>\n",
       "    </tr>\n",
       "    <tr>\n",
       "      <th>4</th>\n",
       "      <td>GRILL MASTERS</td>\n",
       "      <td>Abohar</td>\n",
       "      <td>Italian-American,Fast Food</td>\n",
       "      <td>4.0</td>\n",
       "      <td>250.0</td>\n",
       "    </tr>\n",
       "    <tr>\n",
       "      <th>5</th>\n",
       "      <td>Sam Uncle</td>\n",
       "      <td>Abohar</td>\n",
       "      <td>Continental</td>\n",
       "      <td>3.6</td>\n",
       "      <td>200.0</td>\n",
       "    </tr>\n",
       "    <tr>\n",
       "      <th>9</th>\n",
       "      <td>yummy hub</td>\n",
       "      <td>Abohar</td>\n",
       "      <td>Indian</td>\n",
       "      <td>4.0</td>\n",
       "      <td>200.0</td>\n",
       "    </tr>\n",
       "    <tr>\n",
       "      <th>12</th>\n",
       "      <td>Swastik Dhaba</td>\n",
       "      <td>Abohar</td>\n",
       "      <td>North Indian</td>\n",
       "      <td>4.0</td>\n",
       "      <td>200.0</td>\n",
       "    </tr>\n",
       "    <tr>\n",
       "      <th>16</th>\n",
       "      <td>Roll Express</td>\n",
       "      <td>Abohar</td>\n",
       "      <td>Fast Food</td>\n",
       "      <td>4.0</td>\n",
       "      <td>200.0</td>\n",
       "    </tr>\n",
       "    <tr>\n",
       "      <th>17</th>\n",
       "      <td>wah ji waah veg and non veg corner</td>\n",
       "      <td>Abohar</td>\n",
       "      <td>North Indian,Chinese</td>\n",
       "      <td>4.0</td>\n",
       "      <td>200.0</td>\n",
       "    </tr>\n",
       "    <tr>\n",
       "      <th>22</th>\n",
       "      <td>Royal Chicken</td>\n",
       "      <td>Abohar</td>\n",
       "      <td>Mughlai,North Indian</td>\n",
       "      <td>4.2</td>\n",
       "      <td>200.0</td>\n",
       "    </tr>\n",
       "  </tbody>\n",
       "</table>\n",
       "</div>"
      ],
      "text/plain": [
       "                                  name    city                     cuisine  \\\n",
       "0                       AB FOODS POINT  Abohar            Beverages,Pizzas   \n",
       "1                    Janta Sweet House  Abohar               Sweets,Bakery   \n",
       "3                            Singh Hut  Abohar            Fast Food,Indian   \n",
       "4                        GRILL MASTERS  Abohar  Italian-American,Fast Food   \n",
       "5                            Sam Uncle  Abohar                 Continental   \n",
       "9                            yummy hub  Abohar                      Indian   \n",
       "12                       Swastik Dhaba  Abohar                North Indian   \n",
       "16                        Roll Express  Abohar                   Fast Food   \n",
       "17  wah ji waah veg and non veg corner  Abohar        North Indian,Chinese   \n",
       "22                       Royal Chicken  Abohar        Mughlai,North Indian   \n",
       "\n",
       "    rating   cost  \n",
       "0      4.0  200.0  \n",
       "1      4.4  200.0  \n",
       "3      3.7  250.0  \n",
       "4      4.0  250.0  \n",
       "5      3.6  200.0  \n",
       "9      4.0  200.0  \n",
       "12     4.0  200.0  \n",
       "16     4.0  200.0  \n",
       "17     4.0  200.0  \n",
       "22     4.2  200.0  "
      ]
     },
     "execution_count": 4,
     "metadata": {},
     "output_type": "execute_result"
    }
   ],
   "source": [
    "# Example: Recommend restaurants in the same cluster as index 0\n",
    "idx = 0  # example index\n",
    "restaurant = df_cleaned.iloc[idx]\n",
    "print(\"Selected Restaurant:\")\n",
    "print(restaurant[['name', 'city', 'cuisine', 'rating', 'cost', 'cluster']])\n",
    "\n",
    "cluster_label = restaurant['cluster']\n",
    "similar_cluster = df_cleaned[df_cleaned['cluster'] == cluster_label]\n",
    "\n",
    "print(f\"Restaurants in same cluster (cluster {cluster_label}):\")\n",
    "similar_cluster[['name', 'city', 'cuisine', 'rating', 'cost']].head(10)"
   ]
  },
  {
   "cell_type": "code",
   "execution_count": 5,
   "id": "0852d54b",
   "metadata": {},
   "outputs": [
    {
     "name": "stdout",
     "output_type": "stream",
     "text": [
      "Top 5 similar restaurants (Cosine Similarity):\n"
     ]
    },
    {
     "data": {
      "application/vnd.microsoft.datawrangler.viewer.v0+json": {
       "columns": [
        {
         "name": "index",
         "rawType": "int64",
         "type": "integer"
        },
        {
         "name": "name",
         "rawType": "object",
         "type": "string"
        },
        {
         "name": "city",
         "rawType": "object",
         "type": "string"
        },
        {
         "name": "cuisine",
         "rawType": "object",
         "type": "string"
        },
        {
         "name": "rating",
         "rawType": "float64",
         "type": "float"
        },
        {
         "name": "cost",
         "rawType": "float64",
         "type": "float"
        }
       ],
       "ref": "5ded512d-3aeb-4eff-8352-11f66775e8b5",
       "rows": [
        [
         "148441",
         "Lazeez kitchen",
         "Yavatmal",
         "Pizzas",
         "4.0",
         "200.0"
        ],
        [
         "148437",
         "The Food Delight",
         "Yavatmal",
         "Fast Food,Snacks",
         "4.0",
         "200.0"
        ],
        [
         "25",
         "PubG Cafe",
         "Abohar",
         "Chinese,Pizzas",
         "4.0",
         "200.0"
        ],
        [
         "30",
         "Joker Cafe",
         "Abohar",
         "Indian",
         "4.0",
         "200.0"
        ],
        [
         "34",
         "Bhatti Ki Rasoi",
         "Abohar",
         "North Indian",
         "4.0",
         "200.0"
        ]
       ],
       "shape": {
        "columns": 5,
        "rows": 5
       }
      },
      "text/html": [
       "<div>\n",
       "<style scoped>\n",
       "    .dataframe tbody tr th:only-of-type {\n",
       "        vertical-align: middle;\n",
       "    }\n",
       "\n",
       "    .dataframe tbody tr th {\n",
       "        vertical-align: top;\n",
       "    }\n",
       "\n",
       "    .dataframe thead th {\n",
       "        text-align: right;\n",
       "    }\n",
       "</style>\n",
       "<table border=\"1\" class=\"dataframe\">\n",
       "  <thead>\n",
       "    <tr style=\"text-align: right;\">\n",
       "      <th></th>\n",
       "      <th>name</th>\n",
       "      <th>city</th>\n",
       "      <th>cuisine</th>\n",
       "      <th>rating</th>\n",
       "      <th>cost</th>\n",
       "    </tr>\n",
       "  </thead>\n",
       "  <tbody>\n",
       "    <tr>\n",
       "      <th>148441</th>\n",
       "      <td>Lazeez kitchen</td>\n",
       "      <td>Yavatmal</td>\n",
       "      <td>Pizzas</td>\n",
       "      <td>4.0</td>\n",
       "      <td>200.0</td>\n",
       "    </tr>\n",
       "    <tr>\n",
       "      <th>148437</th>\n",
       "      <td>The Food Delight</td>\n",
       "      <td>Yavatmal</td>\n",
       "      <td>Fast Food,Snacks</td>\n",
       "      <td>4.0</td>\n",
       "      <td>200.0</td>\n",
       "    </tr>\n",
       "    <tr>\n",
       "      <th>25</th>\n",
       "      <td>PubG Cafe</td>\n",
       "      <td>Abohar</td>\n",
       "      <td>Chinese,Pizzas</td>\n",
       "      <td>4.0</td>\n",
       "      <td>200.0</td>\n",
       "    </tr>\n",
       "    <tr>\n",
       "      <th>30</th>\n",
       "      <td>Joker Cafe</td>\n",
       "      <td>Abohar</td>\n",
       "      <td>Indian</td>\n",
       "      <td>4.0</td>\n",
       "      <td>200.0</td>\n",
       "    </tr>\n",
       "    <tr>\n",
       "      <th>34</th>\n",
       "      <td>Bhatti Ki Rasoi</td>\n",
       "      <td>Abohar</td>\n",
       "      <td>North Indian</td>\n",
       "      <td>4.0</td>\n",
       "      <td>200.0</td>\n",
       "    </tr>\n",
       "  </tbody>\n",
       "</table>\n",
       "</div>"
      ],
      "text/plain": [
       "                    name      city           cuisine  rating   cost\n",
       "148441    Lazeez kitchen  Yavatmal            Pizzas     4.0  200.0\n",
       "148437  The Food Delight  Yavatmal  Fast Food,Snacks     4.0  200.0\n",
       "25             PubG Cafe    Abohar    Chinese,Pizzas     4.0  200.0\n",
       "30            Joker Cafe    Abohar            Indian     4.0  200.0\n",
       "34       Bhatti Ki Rasoi    Abohar      North Indian     4.0  200.0"
      ]
     },
     "execution_count": 5,
     "metadata": {},
     "output_type": "execute_result"
    }
   ],
   "source": [
    "# ===== Cosine Similarity (Nearest Neighbors) =====\n",
    "# Build NearestNeighbors model on numerical features\n",
    "nn_model = NearestNeighbors(n_neighbors=6, metric='cosine')\n",
    "nn_model.fit(df_num)\n",
    "\n",
    "# Find top 5 similar to index 0\n",
    "idx = 0\n",
    "distances, indices = nn_model.kneighbors(df_num.iloc[[idx]], n_neighbors=6)\n",
    "recommended_indices = [i for i in indices[0] if i != idx][:5]\n",
    "\n",
    "print(\"Top 5 similar restaurants (Cosine Similarity):\")\n",
    "df_cleaned.iloc[recommended_indices][['name', 'city', 'cuisine', 'rating', 'cost']]\n"
   ]
  },
  {
   "cell_type": "code",
   "execution_count": 6,
   "id": "f8c074cc",
   "metadata": {},
   "outputs": [
    {
     "name": "stdout",
     "output_type": "stream",
     "text": [
      "Saved kmeans_model.pkl and nn_model.pkl\n"
     ]
    }
   ],
   "source": [
    "# Save models for future use\n",
    "with open(\"kmeans_model.pkl\", \"wb\") as f:\n",
    "    pickle.dump(kmeans, f)\n",
    "\n",
    "with open(\"nn_model.pkl\", \"wb\") as f:\n",
    "    pickle.dump(nn_model, f)\n",
    "\n",
    "print(\"Saved kmeans_model.pkl and nn_model.pkl\")"
   ]
  },
  {
   "cell_type": "code",
   "execution_count": 7,
   "id": "d97cbd1f",
   "metadata": {},
   "outputs": [],
   "source": [
    "\n",
    "df_cleaned = pd.read_csv(\"cleaned_data.csv\")\n",
    "df_num     = pd.read_csv(\"numerical_data.csv\")\n",
    "\n",
    "# Assume nn_model_all was trained on df_num for the full dataset:\n",
    "with open(\"nn_model.pkl\", \"rb\") as f:\n",
    "    nn_model_all = pickle.load(f)"
   ]
  },
  {
   "cell_type": "code",
   "execution_count": 8,
   "id": "4ca436c0",
   "metadata": {},
   "outputs": [
    {
     "name": "stdout",
     "output_type": "stream",
     "text": [
      "Selected Restaurant is in Abohar\n"
     ]
    }
   ],
   "source": [
    "\n",
    "\n",
    "# Example: user has selected restaurant at index 0 (from df_cleaned)\n",
    "idx = 0\n",
    "selected_city = df_cleaned.loc[idx, \"city\"]\n",
    "print(f\"Selected Restaurant is in {selected_city}\")"
   ]
  },
  {
   "cell_type": "code",
   "execution_count": 9,
   "id": "cdd396e2",
   "metadata": {},
   "outputs": [
    {
     "name": "stdout",
     "output_type": "stream",
     "text": [
      "Recommended restaurants in the same city:\n",
      "                                  name    city               cuisine  rating  \\\n",
      "9                            yummy hub  Abohar                Indian     4.0   \n",
      "12                       Swastik Dhaba  Abohar          North Indian     4.0   \n",
      "17  wah ji waah veg and non veg corner  Abohar  North Indian,Chinese     4.0   \n",
      "25                           PubG Cafe  Abohar        Chinese,Pizzas     4.0   \n",
      "30                          Joker Cafe  Abohar                Indian     4.0   \n",
      "\n",
      "     cost  \n",
      "9   200.0  \n",
      "12  200.0  \n",
      "17  200.0  \n",
      "25  200.0  \n",
      "30  200.0  \n"
     ]
    }
   ],
   "source": [
    "\n",
    "\n",
    "# STEP A: Find all indices of df_cleaned in that city\n",
    "city_mask = df_cleaned[\"city\"] == selected_city\n",
    "indices_in_city = np.where(city_mask)[0]\n",
    "\n",
    "# STEP B: Extract the numeric rows *for only that city*\n",
    "df_num_city = df_num.loc[indices_in_city].reset_index(drop=True)\n",
    "\n",
    "# STEP C: Build a new NearestNeighbors on that city-only subset\n",
    "nn_model_city = NearestNeighbors(n_neighbors=6, metric=\"cosine\")\n",
    "nn_model_city.fit(df_num_city)\n",
    "\n",
    "# STEP D: Find the position of idx within indices_in_city\n",
    "# Because idx is a global index (0..N-1), find its index in the city subset\n",
    "pos_in_city = np.where(indices_in_city == idx)[0][0]\n",
    "\n",
    "# STEP E: Query for neighbors\n",
    "distances, city_indices = nn_model_city.kneighbors(df_num_city.loc[[pos_in_city]], n_neighbors=6)\n",
    "\n",
    "# STEP F: Map those “city_indices” (0..M-1) back to the original df_cleaned index\n",
    "# Skip the first neighbor (it’s the restaurant itself)\n",
    "recommended_local_positions = [p for p in city_indices[0] if p != pos_in_city][:5]\n",
    "recommended_indices = indices_in_city[recommended_local_positions]\n",
    "\n",
    "print(\"Recommended restaurants in the same city:\")\n",
    "print(df_cleaned.loc[recommended_indices, [\"name\", \"city\", \"cuisine\", \"rating\", \"cost\"]])\n"
   ]
  },
  {
   "cell_type": "code",
   "execution_count": 10,
   "id": "57af6e2a",
   "metadata": {},
   "outputs": [],
   "source": [
    "def recommend_same_city(df_cleaned, df_num, chosen_idx=0, n_recs=5):\n",
    "    chosen_city = df_cleaned.loc[chosen_idx, \"city\"]\n",
    "    city_mask = (df_cleaned[\"city\"] == chosen_city).values\n",
    "    indices_in_city = np.where(city_mask)[0]\n",
    "    if len(indices_in_city) <= 1:\n",
    "        return []\n",
    "    df_num_city = df_num.loc[indices_in_city].reset_index(drop=True)\n",
    "    nn_city = NearestNeighbors(n_neighbors=n_recs+1, metric=\"cosine\")\n",
    "    nn_city.fit(df_num_city)\n",
    "    pos_in_city = np.where(indices_in_city == chosen_idx)[0][0]\n",
    "    distances, neighbors_local = nn_city.kneighbors(\n",
    "        df_num_city.iloc[[pos_in_city]], n_neighbors=n_recs+1\n",
    "    )\n",
    "    recs_local = [r for r in neighbors_local[0] if r != pos_in_city][:n_recs]\n",
    "    rec_indices = indices_in_city[recs_local]\n",
    "    return rec_indices\n"
   ]
  },
  {
   "cell_type": "code",
   "execution_count": 12,
   "id": "c4beae55",
   "metadata": {},
   "outputs": [
    {
     "name": "stdout",
     "output_type": "stream",
     "text": [
      "User-selected restaurant:\n"
     ]
    },
    {
     "data": {
      "application/vnd.microsoft.datawrangler.viewer.v0+json": {
       "columns": [
        {
         "name": "index",
         "rawType": "int64",
         "type": "integer"
        },
        {
         "name": "name",
         "rawType": "object",
         "type": "string"
        },
        {
         "name": "city",
         "rawType": "object",
         "type": "string"
        },
        {
         "name": "cuisine",
         "rawType": "object",
         "type": "string"
        },
        {
         "name": "rating",
         "rawType": "float64",
         "type": "float"
        },
        {
         "name": "cost",
         "rawType": "float64",
         "type": "float"
        }
       ],
       "ref": "ec3e1284-f31a-42de-a690-e8b76cccc180",
       "rows": [
        [
         "0",
         "AB FOODS POINT",
         "Abohar",
         "Beverages,Pizzas",
         "4.0",
         "200.0"
        ]
       ],
       "shape": {
        "columns": 5,
        "rows": 1
       }
      },
      "text/html": [
       "<div>\n",
       "<style scoped>\n",
       "    .dataframe tbody tr th:only-of-type {\n",
       "        vertical-align: middle;\n",
       "    }\n",
       "\n",
       "    .dataframe tbody tr th {\n",
       "        vertical-align: top;\n",
       "    }\n",
       "\n",
       "    .dataframe thead th {\n",
       "        text-align: right;\n",
       "    }\n",
       "</style>\n",
       "<table border=\"1\" class=\"dataframe\">\n",
       "  <thead>\n",
       "    <tr style=\"text-align: right;\">\n",
       "      <th></th>\n",
       "      <th>name</th>\n",
       "      <th>city</th>\n",
       "      <th>cuisine</th>\n",
       "      <th>rating</th>\n",
       "      <th>cost</th>\n",
       "    </tr>\n",
       "  </thead>\n",
       "  <tbody>\n",
       "    <tr>\n",
       "      <th>0</th>\n",
       "      <td>AB FOODS POINT</td>\n",
       "      <td>Abohar</td>\n",
       "      <td>Beverages,Pizzas</td>\n",
       "      <td>4.0</td>\n",
       "      <td>200.0</td>\n",
       "    </tr>\n",
       "  </tbody>\n",
       "</table>\n",
       "</div>"
      ],
      "text/plain": [
       "             name    city           cuisine  rating   cost\n",
       "0  AB FOODS POINT  Abohar  Beverages,Pizzas     4.0  200.0"
      ]
     },
     "metadata": {},
     "output_type": "display_data"
    },
    {
     "name": "stdout",
     "output_type": "stream",
     "text": [
      "\n",
      "Top 5 same-city recommendations:\n"
     ]
    },
    {
     "data": {
      "application/vnd.microsoft.datawrangler.viewer.v0+json": {
       "columns": [
        {
         "name": "index",
         "rawType": "int64",
         "type": "integer"
        },
        {
         "name": "name",
         "rawType": "object",
         "type": "string"
        },
        {
         "name": "city",
         "rawType": "object",
         "type": "string"
        },
        {
         "name": "cuisine",
         "rawType": "object",
         "type": "string"
        },
        {
         "name": "rating",
         "rawType": "float64",
         "type": "float"
        },
        {
         "name": "cost",
         "rawType": "float64",
         "type": "float"
        }
       ],
       "ref": "182c19cd-8e76-4d2d-8db9-fc4154746997",
       "rows": [
        [
         "9",
         "yummy hub",
         "Abohar",
         "Indian",
         "4.0",
         "200.0"
        ],
        [
         "12",
         "Swastik Dhaba",
         "Abohar",
         "North Indian",
         "4.0",
         "200.0"
        ],
        [
         "17",
         "wah ji waah veg and non veg corner",
         "Abohar",
         "North Indian,Chinese",
         "4.0",
         "200.0"
        ],
        [
         "25",
         "PubG Cafe",
         "Abohar",
         "Chinese,Pizzas",
         "4.0",
         "200.0"
        ],
        [
         "30",
         "Joker Cafe",
         "Abohar",
         "Indian",
         "4.0",
         "200.0"
        ]
       ],
       "shape": {
        "columns": 5,
        "rows": 5
       }
      },
      "text/html": [
       "<div>\n",
       "<style scoped>\n",
       "    .dataframe tbody tr th:only-of-type {\n",
       "        vertical-align: middle;\n",
       "    }\n",
       "\n",
       "    .dataframe tbody tr th {\n",
       "        vertical-align: top;\n",
       "    }\n",
       "\n",
       "    .dataframe thead th {\n",
       "        text-align: right;\n",
       "    }\n",
       "</style>\n",
       "<table border=\"1\" class=\"dataframe\">\n",
       "  <thead>\n",
       "    <tr style=\"text-align: right;\">\n",
       "      <th></th>\n",
       "      <th>name</th>\n",
       "      <th>city</th>\n",
       "      <th>cuisine</th>\n",
       "      <th>rating</th>\n",
       "      <th>cost</th>\n",
       "    </tr>\n",
       "  </thead>\n",
       "  <tbody>\n",
       "    <tr>\n",
       "      <th>9</th>\n",
       "      <td>yummy hub</td>\n",
       "      <td>Abohar</td>\n",
       "      <td>Indian</td>\n",
       "      <td>4.0</td>\n",
       "      <td>200.0</td>\n",
       "    </tr>\n",
       "    <tr>\n",
       "      <th>12</th>\n",
       "      <td>Swastik Dhaba</td>\n",
       "      <td>Abohar</td>\n",
       "      <td>North Indian</td>\n",
       "      <td>4.0</td>\n",
       "      <td>200.0</td>\n",
       "    </tr>\n",
       "    <tr>\n",
       "      <th>17</th>\n",
       "      <td>wah ji waah veg and non veg corner</td>\n",
       "      <td>Abohar</td>\n",
       "      <td>North Indian,Chinese</td>\n",
       "      <td>4.0</td>\n",
       "      <td>200.0</td>\n",
       "    </tr>\n",
       "    <tr>\n",
       "      <th>25</th>\n",
       "      <td>PubG Cafe</td>\n",
       "      <td>Abohar</td>\n",
       "      <td>Chinese,Pizzas</td>\n",
       "      <td>4.0</td>\n",
       "      <td>200.0</td>\n",
       "    </tr>\n",
       "    <tr>\n",
       "      <th>30</th>\n",
       "      <td>Joker Cafe</td>\n",
       "      <td>Abohar</td>\n",
       "      <td>Indian</td>\n",
       "      <td>4.0</td>\n",
       "      <td>200.0</td>\n",
       "    </tr>\n",
       "  </tbody>\n",
       "</table>\n",
       "</div>"
      ],
      "text/plain": [
       "                                  name    city               cuisine  rating  \\\n",
       "9                            yummy hub  Abohar                Indian     4.0   \n",
       "12                       Swastik Dhaba  Abohar          North Indian     4.0   \n",
       "17  wah ji waah veg and non veg corner  Abohar  North Indian,Chinese     4.0   \n",
       "25                           PubG Cafe  Abohar        Chinese,Pizzas     4.0   \n",
       "30                          Joker Cafe  Abohar                Indian     4.0   \n",
       "\n",
       "     cost  \n",
       "9   200.0  \n",
       "12  200.0  \n",
       "17  200.0  \n",
       "25  200.0  \n",
       "30  200.0  "
      ]
     },
     "metadata": {},
     "output_type": "display_data"
    }
   ],
   "source": [
    "idx = 0\n",
    "print(\"User-selected restaurant:\")\n",
    "display(df_cleaned.loc[[idx], [\"name\", \"city\", \"cuisine\", \"rating\", \"cost\"]])\n",
    "recommended_indices = recommend_same_city(df_cleaned, df_num, chosen_idx=idx, n_recs=5)\n",
    "print(\"\\nTop 5 same-city recommendations:\")\n",
    "display(df_cleaned.loc[recommended_indices][[\"name\", \"city\", \"cuisine\", \"rating\", \"cost\"]])"
   ]
  },
  {
   "cell_type": "code",
   "execution_count": 15,
   "id": "cb5de9d0",
   "metadata": {},
   "outputs": [],
   "source": [
    "def recommend_same_city_and_cuisine(df_cleaned, df_num, chosen_idx=0, n_recs=5):\n",
    "    \"\"\"\n",
    "    Returns top-n_recs similar restaurants that share both city and cuisine \n",
    "    with the restaurant at index chosen_idx.\n",
    "    \"\"\"\n",
    "    # 1) Look up city & cuisine for the chosen restaurant\n",
    "    chosen_city   = df_cleaned.loc[chosen_idx, \"city\"]\n",
    "    chosen_cuisine = df_cleaned.loc[chosen_idx, \"cuisine\"]\n",
    "    \n",
    "    # 2) Build a mask for (same city) AND (same cuisine tag)\n",
    "    #    If “cuisine” is a comma-separated string, use 'in' to match:\n",
    "    mask_same_city = (df_cleaned[\"city\"] == chosen_city)\n",
    "    mask_same_cuis = (df_cleaned[\"cuisine\"] == chosen_cuisine)\n",
    "    \n",
    "    #    Final mask:\n",
    "    mask = mask_same_city & mask_same_cuis\n",
    "    indices_sub = np.where(mask)[0]    # global indices of matching rows\n",
    "    \n",
    "    # 3) If there aren’t enough rows, just return an empty list or fewer suggestions\n",
    "    if len(indices_sub) <= 1:\n",
    "        return []\n",
    "    \n",
    "    # 4) Subset the numeric features to only those rows\n",
    "    df_num_sub = df_num.loc[indices_sub].reset_index(drop=True)\n",
    "    \n",
    "    # 5) Build & fit a new NearestNeighbors on this filtered subset\n",
    "    nn_sub = NearestNeighbors(n_neighbors=n_recs+1, metric=\"cosine\")\n",
    "    nn_sub.fit(df_num_sub)\n",
    "    \n",
    "    # 6) Find the “local” position of chosen_idx within indices_sub\n",
    "    pos_in_sub = np.where(indices_sub == chosen_idx)[0][0]\n",
    "    \n",
    "    # 7) Query for neighbors, skip “itself”\n",
    "    distances, neighbors_local = nn_sub.kneighbors(\n",
    "        df_num_sub.iloc[[pos_in_sub]], n_neighbors=n_recs+1\n",
    "    )\n",
    "    recs_local = [r for r in neighbors_local[0] if r != pos_in_sub][:n_recs]\n",
    "    \n",
    "    # 8) Map those “local” indices back to global indices\n",
    "    rec_indices = indices_sub[recs_local]\n",
    "    return rec_indices"
   ]
  },
  {
   "cell_type": "code",
   "execution_count": 16,
   "id": "1c724601",
   "metadata": {},
   "outputs": [
    {
     "name": "stdout",
     "output_type": "stream",
     "text": [
      "Chosen Restaurant:\n"
     ]
    },
    {
     "data": {
      "application/vnd.microsoft.datawrangler.viewer.v0+json": {
       "columns": [
        {
         "name": "index",
         "rawType": "int64",
         "type": "integer"
        },
        {
         "name": "name",
         "rawType": "object",
         "type": "string"
        },
        {
         "name": "city",
         "rawType": "object",
         "type": "string"
        },
        {
         "name": "cuisine",
         "rawType": "object",
         "type": "string"
        },
        {
         "name": "rating",
         "rawType": "float64",
         "type": "float"
        },
        {
         "name": "cost",
         "rawType": "float64",
         "type": "float"
        }
       ],
       "ref": "81503fef-4c90-453a-893b-7ff9223fc6c9",
       "rows": [
        [
         "9",
         "yummy hub",
         "Abohar",
         "Indian",
         "4.0",
         "200.0"
        ]
       ],
       "shape": {
        "columns": 5,
        "rows": 1
       }
      },
      "text/html": [
       "<div>\n",
       "<style scoped>\n",
       "    .dataframe tbody tr th:only-of-type {\n",
       "        vertical-align: middle;\n",
       "    }\n",
       "\n",
       "    .dataframe tbody tr th {\n",
       "        vertical-align: top;\n",
       "    }\n",
       "\n",
       "    .dataframe thead th {\n",
       "        text-align: right;\n",
       "    }\n",
       "</style>\n",
       "<table border=\"1\" class=\"dataframe\">\n",
       "  <thead>\n",
       "    <tr style=\"text-align: right;\">\n",
       "      <th></th>\n",
       "      <th>name</th>\n",
       "      <th>city</th>\n",
       "      <th>cuisine</th>\n",
       "      <th>rating</th>\n",
       "      <th>cost</th>\n",
       "    </tr>\n",
       "  </thead>\n",
       "  <tbody>\n",
       "    <tr>\n",
       "      <th>9</th>\n",
       "      <td>yummy hub</td>\n",
       "      <td>Abohar</td>\n",
       "      <td>Indian</td>\n",
       "      <td>4.0</td>\n",
       "      <td>200.0</td>\n",
       "    </tr>\n",
       "  </tbody>\n",
       "</table>\n",
       "</div>"
      ],
      "text/plain": [
       "        name    city cuisine  rating   cost\n",
       "9  yummy hub  Abohar  Indian     4.0  200.0"
      ]
     },
     "metadata": {},
     "output_type": "display_data"
    },
    {
     "name": "stdout",
     "output_type": "stream",
     "text": [
      "\n",
      "Top 5 same-city & same-cuisine recommendations:\n"
     ]
    },
    {
     "data": {
      "application/vnd.microsoft.datawrangler.viewer.v0+json": {
       "columns": [
        {
         "name": "index",
         "rawType": "int64",
         "type": "integer"
        },
        {
         "name": "name",
         "rawType": "object",
         "type": "string"
        },
        {
         "name": "city",
         "rawType": "object",
         "type": "string"
        },
        {
         "name": "cuisine",
         "rawType": "object",
         "type": "string"
        },
        {
         "name": "rating",
         "rawType": "float64",
         "type": "float"
        },
        {
         "name": "cost",
         "rawType": "float64",
         "type": "float"
        }
       ],
       "ref": "7ecd4504-6bc2-4b8b-a63a-f050052d48bf",
       "rows": [
        [
         "30",
         "Joker Cafe",
         "Abohar",
         "Indian",
         "4.0",
         "200.0"
        ],
        [
         "61",
         "SHRI GANESH SWEET HOUSE",
         "Abohar",
         "Indian",
         "4.0",
         "200.0"
        ],
        [
         "14",
         "Bharawan Da Dhaba",
         "Abohar",
         "Indian",
         "4.4",
         "300.0"
        ],
        [
         "35",
         "SETHI PUNJABI RASOI",
         "Abohar",
         "Indian",
         "4.0",
         "300.0"
        ],
        [
         "26",
         "Verma Dhaba",
         "Abohar",
         "Indian",
         "4.0",
         "300.0"
        ]
       ],
       "shape": {
        "columns": 5,
        "rows": 5
       }
      },
      "text/html": [
       "<div>\n",
       "<style scoped>\n",
       "    .dataframe tbody tr th:only-of-type {\n",
       "        vertical-align: middle;\n",
       "    }\n",
       "\n",
       "    .dataframe tbody tr th {\n",
       "        vertical-align: top;\n",
       "    }\n",
       "\n",
       "    .dataframe thead th {\n",
       "        text-align: right;\n",
       "    }\n",
       "</style>\n",
       "<table border=\"1\" class=\"dataframe\">\n",
       "  <thead>\n",
       "    <tr style=\"text-align: right;\">\n",
       "      <th></th>\n",
       "      <th>name</th>\n",
       "      <th>city</th>\n",
       "      <th>cuisine</th>\n",
       "      <th>rating</th>\n",
       "      <th>cost</th>\n",
       "    </tr>\n",
       "  </thead>\n",
       "  <tbody>\n",
       "    <tr>\n",
       "      <th>30</th>\n",
       "      <td>Joker Cafe</td>\n",
       "      <td>Abohar</td>\n",
       "      <td>Indian</td>\n",
       "      <td>4.0</td>\n",
       "      <td>200.0</td>\n",
       "    </tr>\n",
       "    <tr>\n",
       "      <th>61</th>\n",
       "      <td>SHRI GANESH SWEET HOUSE</td>\n",
       "      <td>Abohar</td>\n",
       "      <td>Indian</td>\n",
       "      <td>4.0</td>\n",
       "      <td>200.0</td>\n",
       "    </tr>\n",
       "    <tr>\n",
       "      <th>14</th>\n",
       "      <td>Bharawan Da Dhaba</td>\n",
       "      <td>Abohar</td>\n",
       "      <td>Indian</td>\n",
       "      <td>4.4</td>\n",
       "      <td>300.0</td>\n",
       "    </tr>\n",
       "    <tr>\n",
       "      <th>35</th>\n",
       "      <td>SETHI PUNJABI RASOI</td>\n",
       "      <td>Abohar</td>\n",
       "      <td>Indian</td>\n",
       "      <td>4.0</td>\n",
       "      <td>300.0</td>\n",
       "    </tr>\n",
       "    <tr>\n",
       "      <th>26</th>\n",
       "      <td>Verma Dhaba</td>\n",
       "      <td>Abohar</td>\n",
       "      <td>Indian</td>\n",
       "      <td>4.0</td>\n",
       "      <td>300.0</td>\n",
       "    </tr>\n",
       "  </tbody>\n",
       "</table>\n",
       "</div>"
      ],
      "text/plain": [
       "                       name    city cuisine  rating   cost\n",
       "30               Joker Cafe  Abohar  Indian     4.0  200.0\n",
       "61  SHRI GANESH SWEET HOUSE  Abohar  Indian     4.0  200.0\n",
       "14        Bharawan Da Dhaba  Abohar  Indian     4.4  300.0\n",
       "35      SETHI PUNJABI RASOI  Abohar  Indian     4.0  300.0\n",
       "26              Verma Dhaba  Abohar  Indian     4.0  300.0"
      ]
     },
     "metadata": {},
     "output_type": "display_data"
    }
   ],
   "source": [
    "\n",
    "# 2) Pick an index to test, e.g. idx = 9\n",
    "idx = 9\n",
    "\n",
    "# 3) Call the function\n",
    "recommended_idxs = recommend_same_city_and_cuisine(df_cleaned, df_num, chosen_idx=idx, n_recs=5)\n",
    "\n",
    "# 4) Show results\n",
    "print(\"Chosen Restaurant:\")\n",
    "display(df_cleaned.loc[[idx], [\"name\", \"city\", \"cuisine\", \"rating\", \"cost\"]])\n",
    "\n",
    "print(\"\\nTop 5 same-city & same-cuisine recommendations:\")\n",
    "display(df_cleaned.loc[recommended_idxs][[\"name\", \"city\", \"cuisine\", \"rating\", \"cost\"]])"
   ]
  }
 ],
 "metadata": {
  "kernelspec": {
   "display_name": ".venv",
   "language": "python",
   "name": "python3"
  },
  "language_info": {
   "codemirror_mode": {
    "name": "ipython",
    "version": 3
   },
   "file_extension": ".py",
   "mimetype": "text/x-python",
   "name": "python",
   "nbconvert_exporter": "python",
   "pygments_lexer": "ipython3",
   "version": "3.12.10"
  }
 },
 "nbformat": 4,
 "nbformat_minor": 5
}
